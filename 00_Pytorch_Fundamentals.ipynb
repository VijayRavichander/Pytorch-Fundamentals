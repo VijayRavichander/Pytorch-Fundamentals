{
  "nbformat": 4,
  "nbformat_minor": 0,
  "metadata": {
    "colab": {
      "provenance": []
    },
    "kernelspec": {
      "name": "python3",
      "display_name": "Python 3"
    },
    "language_info": {
      "name": "python"
    }
  },
  "cells": [
    {
      "cell_type": "code",
      "execution_count": 1,
      "metadata": {
        "id": "HH1DCwh546c6"
      },
      "outputs": [],
      "source": [
        "import torch"
      ]
    },
    {
      "cell_type": "code",
      "source": [
        "print(torch.__version__)"
      ],
      "metadata": {
        "colab": {
          "base_uri": "https://localhost:8080/"
        },
        "id": "URNdmmHS5SMi",
        "outputId": "57c42ec5-eab7-4af1-f40b-87ece0f780fc"
      },
      "execution_count": 2,
      "outputs": [
        {
          "output_type": "stream",
          "name": "stdout",
          "text": [
            "1.13.1+cu116\n"
          ]
        }
      ]
    },
    {
      "cell_type": "markdown",
      "source": [
        "## Tensors"
      ],
      "metadata": {
        "id": "0TuobQnw6xC0"
      }
    },
    {
      "cell_type": "markdown",
      "source": [
        "Summing it up: \n",
        "* Scalar - a number - dim 0\n",
        "* Vector - a row of entities - dim 1\n",
        "* Matrix - a combination of rows and columns - dim 2\n",
        "* Tensor - a collection of matrices - dim 3\n",
        "\n",
        "In general, as the dimension increases, it is just the earlier dimension representated as collection in a different format"
      ],
      "metadata": {
        "id": "KU2PPvDUMpKp"
      }
    },
    {
      "cell_type": "code",
      "source": [
        "scalar = torch.tensor(7)\n",
        "scalar"
      ],
      "metadata": {
        "colab": {
          "base_uri": "https://localhost:8080/"
        },
        "id": "4nscXDof5Y_1",
        "outputId": "138ddda0-399b-4d42-bbea-7cdd1ab381a2"
      },
      "execution_count": 4,
      "outputs": [
        {
          "output_type": "execute_result",
          "data": {
            "text/plain": [
              "tensor(7)"
            ]
          },
          "metadata": {},
          "execution_count": 4
        }
      ]
    },
    {
      "cell_type": "code",
      "source": [
        "scalar.ndim"
      ],
      "metadata": {
        "colab": {
          "base_uri": "https://localhost:8080/"
        },
        "id": "IsDfV8u263Iu",
        "outputId": "e0c39e6c-e6e5-4a08-d7c2-69f55df29ccf"
      },
      "execution_count": 5,
      "outputs": [
        {
          "output_type": "execute_result",
          "data": {
            "text/plain": [
              "0"
            ]
          },
          "metadata": {},
          "execution_count": 5
        }
      ]
    },
    {
      "cell_type": "code",
      "source": [
        "\n",
        "scalar.item()"
      ],
      "metadata": {
        "colab": {
          "base_uri": "https://localhost:8080/"
        },
        "id": "HQqITTXQ7BRf",
        "outputId": "9d2524a4-e36b-4389-cbad-23ed6d457284"
      },
      "execution_count": 7,
      "outputs": [
        {
          "output_type": "execute_result",
          "data": {
            "text/plain": [
              "7"
            ]
          },
          "metadata": {},
          "execution_count": 7
        }
      ]
    },
    {
      "cell_type": "code",
      "source": [
        "vector = torch.tensor([5,6,7])\n",
        "vector"
      ],
      "metadata": {
        "colab": {
          "base_uri": "https://localhost:8080/"
        },
        "id": "qoWNYrNX7HDj",
        "outputId": "ec31962d-8ad6-4f3c-bf9b-ea3b93f98576"
      },
      "execution_count": 8,
      "outputs": [
        {
          "output_type": "execute_result",
          "data": {
            "text/plain": [
              "tensor([5, 6, 7])"
            ]
          },
          "metadata": {},
          "execution_count": 8
        }
      ]
    },
    {
      "cell_type": "code",
      "source": [
        "vector.ndim"
      ],
      "metadata": {
        "colab": {
          "base_uri": "https://localhost:8080/"
        },
        "id": "81V9IhGF7U-e",
        "outputId": "379f0040-0148-41b8-fd35-c4727f10ff62"
      },
      "execution_count": 10,
      "outputs": [
        {
          "output_type": "execute_result",
          "data": {
            "text/plain": [
              "1"
            ]
          },
          "metadata": {},
          "execution_count": 10
        }
      ]
    },
    {
      "cell_type": "code",
      "source": [
        "vector.item()"
      ],
      "metadata": {
        "colab": {
          "base_uri": "https://localhost:8080/",
          "height": 198
        },
        "id": "5F9x1dXt7X-3",
        "outputId": "667aff00-a744-40d8-9139-a164aeba44c7"
      },
      "execution_count": 11,
      "outputs": [
        {
          "output_type": "error",
          "ename": "ValueError",
          "evalue": "ignored",
          "traceback": [
            "\u001b[0;31m---------------------------------------------------------------------------\u001b[0m",
            "\u001b[0;31mValueError\u001b[0m                                Traceback (most recent call last)",
            "\u001b[0;32m<ipython-input-11-bac96449ccf9>\u001b[0m in \u001b[0;36m<module>\u001b[0;34m\u001b[0m\n\u001b[0;32m----> 1\u001b[0;31m \u001b[0mvector\u001b[0m\u001b[0;34m.\u001b[0m\u001b[0mitem\u001b[0m\u001b[0;34m(\u001b[0m\u001b[0;34m)\u001b[0m\u001b[0;34m\u001b[0m\u001b[0;34m\u001b[0m\u001b[0m\n\u001b[0m",
            "\u001b[0;31mValueError\u001b[0m: only one element tensors can be converted to Python scalars"
          ]
        }
      ]
    },
    {
      "cell_type": "markdown",
      "source": [
        "🔴 item() method works for only scalars"
      ],
      "metadata": {
        "id": "Ycm6Gd2F7szz"
      }
    },
    {
      "cell_type": "code",
      "source": [
        "vector.shape"
      ],
      "metadata": {
        "colab": {
          "base_uri": "https://localhost:8080/"
        },
        "id": "9OqHrJc97ds5",
        "outputId": "a5e8984d-8839-4834-d2e1-9f8eb54771ab"
      },
      "execution_count": 15,
      "outputs": [
        {
          "output_type": "execute_result",
          "data": {
            "text/plain": [
              "torch.Size([3])"
            ]
          },
          "metadata": {},
          "execution_count": 15
        }
      ]
    },
    {
      "cell_type": "code",
      "source": [
        "matrix = torch.tensor([[1,2],[3,4]])"
      ],
      "metadata": {
        "id": "gCeAUfB38BEx"
      },
      "execution_count": 17,
      "outputs": []
    },
    {
      "cell_type": "code",
      "source": [
        "matrix.ndim, matrix.shape"
      ],
      "metadata": {
        "colab": {
          "base_uri": "https://localhost:8080/"
        },
        "id": "eUDQINfo8N7u",
        "outputId": "ffa53ae3-66a8-4ece-874a-c8b068675f2d"
      },
      "execution_count": 18,
      "outputs": [
        {
          "output_type": "execute_result",
          "data": {
            "text/plain": [
              "(2, torch.Size([2, 2]))"
            ]
          },
          "metadata": {},
          "execution_count": 18
        }
      ]
    },
    {
      "cell_type": "code",
      "source": [
        "assert matrix.ndim == len(matrix.shape[:])"
      ],
      "metadata": {
        "id": "ZmDWxYlD8Vdh"
      },
      "execution_count": 19,
      "outputs": []
    },
    {
      "cell_type": "code",
      "source": [
        "tensor = torch.tensor([\n",
        "    [\n",
        "        [1,1], \n",
        "        [1,1], \n",
        "        [2,3]\n",
        "     ],\n",
        "    [\n",
        "        [2,2], \n",
        "        [2,2],\n",
        "        [2,2]\n",
        "     ]\n",
        "     ])"
      ],
      "metadata": {
        "id": "WeLw6r8N8lfd"
      },
      "execution_count": 31,
      "outputs": []
    },
    {
      "cell_type": "code",
      "source": [
        "tensor.ndim, tensor.shape"
      ],
      "metadata": {
        "colab": {
          "base_uri": "https://localhost:8080/"
        },
        "id": "B24TcLakMg8P",
        "outputId": "46ae11e6-3edc-411c-c500-f57b53fbd3f2"
      },
      "execution_count": 32,
      "outputs": [
        {
          "output_type": "execute_result",
          "data": {
            "text/plain": [
              "(3, torch.Size([2, 3, 2]))"
            ]
          },
          "metadata": {},
          "execution_count": 32
        }
      ]
    },
    {
      "cell_type": "markdown",
      "source": [
        "🎃 Shape goes from outer to inner"
      ],
      "metadata": {
        "id": "CwnS2fVxObCV"
      }
    },
    {
      "cell_type": "markdown",
      "source": [
        "Some standard methods of creating tensors\n",
        "* rand(size)\n",
        "* zeros(size)\n",
        "* ones(size)\n",
        "* arange(start,end, step)\n",
        "\n",
        "Two new methods\n",
        "* zeros_like(input)\n",
        "* ones_like(input)"
      ],
      "metadata": {
        "id": "bNWVgMiqP-Hh"
      }
    },
    {
      "cell_type": "code",
      "source": [
        "random_tensor = torch.rand(size = (1,3,2))"
      ],
      "metadata": {
        "id": "yW0JO8WfMkBo"
      },
      "execution_count": 35,
      "outputs": []
    },
    {
      "cell_type": "code",
      "source": [
        "random_tensor"
      ],
      "metadata": {
        "colab": {
          "base_uri": "https://localhost:8080/"
        },
        "id": "LyPgl_NkPEvk",
        "outputId": "4440f60f-2d91-4582-ec3c-a87f17d3979c"
      },
      "execution_count": 36,
      "outputs": [
        {
          "output_type": "execute_result",
          "data": {
            "text/plain": [
              "tensor([[[0.9013, 0.3610],\n",
              "         [0.9183, 0.5964],\n",
              "         [0.8409, 0.9902]]])"
            ]
          },
          "metadata": {},
          "execution_count": 36
        }
      ]
    },
    {
      "cell_type": "code",
      "source": [
        "one_tensor = torch.ones(size = (7,1,1))\n",
        "\n",
        "zero_tensor = torch.zeros(size = (4,3,4))"
      ],
      "metadata": {
        "id": "c5Glj6ndPG09"
      },
      "execution_count": 37,
      "outputs": []
    },
    {
      "cell_type": "code",
      "source": [
        "one_tensor"
      ],
      "metadata": {
        "id": "B2TR4kVtPgyn"
      },
      "execution_count": null,
      "outputs": []
    },
    {
      "cell_type": "code",
      "source": [
        "zero_tensor"
      ],
      "metadata": {
        "id": "Gcana0AqPiXR"
      },
      "execution_count": null,
      "outputs": []
    },
    {
      "cell_type": "code",
      "source": [
        "range_tensor = torch.arange(0,10,3)"
      ],
      "metadata": {
        "id": "R0ooc8hQPjNC"
      },
      "execution_count": 40,
      "outputs": []
    },
    {
      "cell_type": "code",
      "source": [
        "range_tensor"
      ],
      "metadata": {
        "colab": {
          "base_uri": "https://localhost:8080/"
        },
        "id": "kSoEMLntPzZf",
        "outputId": "c8cd0cea-5823-4801-ebba-ccc745444907"
      },
      "execution_count": 42,
      "outputs": [
        {
          "output_type": "execute_result",
          "data": {
            "text/plain": [
              "tensor([0, 3, 6, 9])"
            ]
          },
          "metadata": {},
          "execution_count": 42
        }
      ]
    },
    {
      "cell_type": "code",
      "source": [
        "four_zeros_tensor = torch.zeros_like(input = range_tensor)"
      ],
      "metadata": {
        "id": "I_38giYOP1KO"
      },
      "execution_count": 43,
      "outputs": []
    },
    {
      "cell_type": "code",
      "source": [
        "four_zeros_tensor"
      ],
      "metadata": {
        "colab": {
          "base_uri": "https://localhost:8080/"
        },
        "id": "xJoI3qYqRKVz",
        "outputId": "d0d8d674-0118-4aa8-985f-481fb7f51e01"
      },
      "execution_count": 44,
      "outputs": [
        {
          "output_type": "execute_result",
          "data": {
            "text/plain": [
              "tensor([0, 0, 0, 0])"
            ]
          },
          "metadata": {},
          "execution_count": 44
        }
      ]
    },
    {
      "cell_type": "markdown",
      "source": [
        "Datatypes: \n",
        "Common issues with datatypes are\n",
        "* precision mismatch\n",
        "* device mismatch "
      ],
      "metadata": {
        "id": "Qfj_AiOARql5"
      }
    },
    {
      "cell_type": "code",
      "source": [
        "some_tensor = torch.rand(3, 4)\n",
        "\n",
        "print(some_tensor)\n",
        "print(some_tensor.dtype)\n",
        "print(some_tensor.device)"
      ],
      "metadata": {
        "colab": {
          "base_uri": "https://localhost:8080/"
        },
        "id": "-82y9mbyRNoX",
        "outputId": "3e5cd3e1-6827-4494-db67-0bf7a8a162a1"
      },
      "execution_count": 45,
      "outputs": [
        {
          "output_type": "stream",
          "name": "stdout",
          "text": [
            "tensor([[0.9954, 0.3814, 0.4561, 0.9402],\n",
            "        [0.7991, 0.5719, 0.9564, 0.1230],\n",
            "        [0.4926, 0.4247, 0.9970, 0.4306]])\n",
            "torch.float32\n",
            "cpu\n"
          ]
        }
      ]
    },
    {
      "cell_type": "markdown",
      "source": [
        "Operations on Tensors"
      ],
      "metadata": {
        "id": "PBVFDd0TSL99"
      }
    },
    {
      "cell_type": "code",
      "source": [
        "tensor = torch.tensor([ 7, 12, 18])\n",
        "tensor + 10"
      ],
      "metadata": {
        "colab": {
          "base_uri": "https://localhost:8080/"
        },
        "id": "FTnHH8tqSDSq",
        "outputId": "0106bc31-717d-4a97-eb1c-1ba63445b107"
      },
      "execution_count": 46,
      "outputs": [
        {
          "output_type": "execute_result",
          "data": {
            "text/plain": [
              "tensor([17, 22, 28])"
            ]
          },
          "metadata": {},
          "execution_count": 46
        }
      ]
    },
    {
      "cell_type": "code",
      "source": [
        "tensor * 10 "
      ],
      "metadata": {
        "colab": {
          "base_uri": "https://localhost:8080/"
        },
        "id": "8EAssBoTSZDl",
        "outputId": "d4900c71-78de-4493-b199-924ef2717cba"
      },
      "execution_count": 47,
      "outputs": [
        {
          "output_type": "execute_result",
          "data": {
            "text/plain": [
              "tensor([ 70, 120, 180])"
            ]
          },
          "metadata": {},
          "execution_count": 47
        }
      ]
    },
    {
      "cell_type": "code",
      "source": [
        "tensor - 10"
      ],
      "metadata": {
        "colab": {
          "base_uri": "https://localhost:8080/"
        },
        "id": "VRXRyLE5SbaX",
        "outputId": "64ed0f98-03c0-4ee6-d700-4b5a1f3d1ca9"
      },
      "execution_count": 48,
      "outputs": [
        {
          "output_type": "execute_result",
          "data": {
            "text/plain": [
              "tensor([-3,  2,  8])"
            ]
          },
          "metadata": {},
          "execution_count": 48
        }
      ]
    },
    {
      "cell_type": "code",
      "source": [
        "tensor.shape"
      ],
      "metadata": {
        "colab": {
          "base_uri": "https://localhost:8080/"
        },
        "id": "oWvoj3VJTSNI",
        "outputId": "249cba01-6d49-4c33-a595-91af4057e391"
      },
      "execution_count": 49,
      "outputs": [
        {
          "output_type": "execute_result",
          "data": {
            "text/plain": [
              "torch.Size([3])"
            ]
          },
          "metadata": {},
          "execution_count": 49
        }
      ]
    },
    {
      "cell_type": "code",
      "source": [
        "torch.matmul(torch.rand(size = (2,3)), torch.rand(size = (3,2)))"
      ],
      "metadata": {
        "colab": {
          "base_uri": "https://localhost:8080/"
        },
        "id": "q8-hxfheSfdI",
        "outputId": "a18ba4b3-29c0-454e-e09d-3870e6832edc"
      },
      "execution_count": 50,
      "outputs": [
        {
          "output_type": "execute_result",
          "data": {
            "text/plain": [
              "tensor([[0.8573, 0.8799],\n",
              "        [0.9027, 0.8034]])"
            ]
          },
          "metadata": {},
          "execution_count": 50
        }
      ]
    },
    {
      "cell_type": "code",
      "source": [
        "torch.mm(torch.rand(size = (2,3)), torch.rand(size = (3,2)))"
      ],
      "metadata": {
        "colab": {
          "base_uri": "https://localhost:8080/"
        },
        "id": "VbwoVSp_TlBx",
        "outputId": "917fc0b6-0090-4ea1-dd4a-db7826798dbe"
      },
      "execution_count": 51,
      "outputs": [
        {
          "output_type": "execute_result",
          "data": {
            "text/plain": [
              "tensor([[0.4681, 0.4027],\n",
              "        [0.6711, 0.3398]])"
            ]
          },
          "metadata": {},
          "execution_count": 51
        }
      ]
    },
    {
      "cell_type": "markdown",
      "source": [
        "Reshaping, Stacking, Squeezing and Unsqueezing"
      ],
      "metadata": {
        "id": "TWXzgDRYWH-Y"
      }
    },
    {
      "cell_type": "code",
      "source": [
        "x = torch.arange(7,15)\n",
        "x"
      ],
      "metadata": {
        "colab": {
          "base_uri": "https://localhost:8080/"
        },
        "id": "b1RRHKDPTt-d",
        "outputId": "0496976a-a5b2-46b4-f533-4d65fad98504"
      },
      "execution_count": 54,
      "outputs": [
        {
          "output_type": "execute_result",
          "data": {
            "text/plain": [
              "tensor([ 7,  8,  9, 10, 11, 12, 13, 14])"
            ]
          },
          "metadata": {},
          "execution_count": 54
        }
      ]
    },
    {
      "cell_type": "code",
      "source": [
        "x.reshape(2,4)"
      ],
      "metadata": {
        "colab": {
          "base_uri": "https://localhost:8080/"
        },
        "id": "NWNBJKe6WUn9",
        "outputId": "52abe3bd-044c-46e0-8293-c371e547c593"
      },
      "execution_count": 55,
      "outputs": [
        {
          "output_type": "execute_result",
          "data": {
            "text/plain": [
              "tensor([[ 7,  8,  9, 10],\n",
              "        [11, 12, 13, 14]])"
            ]
          },
          "metadata": {},
          "execution_count": 55
        }
      ]
    },
    {
      "cell_type": "code",
      "source": [
        "x.view(4,2)"
      ],
      "metadata": {
        "colab": {
          "base_uri": "https://localhost:8080/"
        },
        "id": "-Q-jPFVJWYXD",
        "outputId": "4a9556ed-5e07-4061-c719-b2d7b1316ba2"
      },
      "execution_count": 56,
      "outputs": [
        {
          "output_type": "execute_result",
          "data": {
            "text/plain": [
              "tensor([[ 7,  8],\n",
              "        [ 9, 10],\n",
              "        [11, 12],\n",
              "        [13, 14]])"
            ]
          },
          "metadata": {},
          "execution_count": 56
        }
      ]
    },
    {
      "cell_type": "code",
      "source": [
        "torch.stack([x, x, x], dim = -1)"
      ],
      "metadata": {
        "colab": {
          "base_uri": "https://localhost:8080/"
        },
        "id": "i40nS7B9Wj_t",
        "outputId": "3696b37a-186d-47b7-fcaa-f086eb4122f4"
      },
      "execution_count": 59,
      "outputs": [
        {
          "output_type": "execute_result",
          "data": {
            "text/plain": [
              "tensor([[ 7,  7,  7],\n",
              "        [ 8,  8,  8],\n",
              "        [ 9,  9,  9],\n",
              "        [10, 10, 10],\n",
              "        [11, 11, 11],\n",
              "        [12, 12, 12],\n",
              "        [13, 13, 13],\n",
              "        [14, 14, 14]])"
            ]
          },
          "metadata": {},
          "execution_count": 59
        }
      ]
    },
    {
      "cell_type": "code",
      "source": [
        "y = torch.rand(size = (4,3, 1, 1))"
      ],
      "metadata": {
        "id": "40orIfDYWvgj"
      },
      "execution_count": 65,
      "outputs": []
    },
    {
      "cell_type": "code",
      "source": [
        "y"
      ],
      "metadata": {
        "id": "EP_bkQm5XAdX"
      },
      "execution_count": null,
      "outputs": []
    },
    {
      "cell_type": "code",
      "source": [
        "y.squeeze()"
      ],
      "metadata": {
        "colab": {
          "base_uri": "https://localhost:8080/"
        },
        "id": "GR-Cp9d8XNO6",
        "outputId": "23bf570b-c689-4668-b9db-0b67e6df5155"
      },
      "execution_count": 67,
      "outputs": [
        {
          "output_type": "execute_result",
          "data": {
            "text/plain": [
              "tensor([[0.8452, 0.5224, 0.5313],\n",
              "        [0.0527, 0.4518, 0.7368],\n",
              "        [0.5013, 0.1564, 0.6460],\n",
              "        [0.7403, 0.7691, 0.0330]])"
            ]
          },
          "metadata": {},
          "execution_count": 67
        }
      ]
    },
    {
      "cell_type": "code",
      "source": [
        "y.unsqueeze(dim = 3)"
      ],
      "metadata": {
        "colab": {
          "base_uri": "https://localhost:8080/"
        },
        "id": "DhMXt9MOYa9f",
        "outputId": "0f9b88f9-2fb8-467d-9ff8-6b27ce9dc1b7"
      },
      "execution_count": 70,
      "outputs": [
        {
          "output_type": "execute_result",
          "data": {
            "text/plain": [
              "tensor([[[[[0.8452]]],\n",
              "\n",
              "\n",
              "         [[[0.5224]]],\n",
              "\n",
              "\n",
              "         [[[0.5313]]]],\n",
              "\n",
              "\n",
              "\n",
              "        [[[[0.0527]]],\n",
              "\n",
              "\n",
              "         [[[0.4518]]],\n",
              "\n",
              "\n",
              "         [[[0.7368]]]],\n",
              "\n",
              "\n",
              "\n",
              "        [[[[0.5013]]],\n",
              "\n",
              "\n",
              "         [[[0.1564]]],\n",
              "\n",
              "\n",
              "         [[[0.6460]]]],\n",
              "\n",
              "\n",
              "\n",
              "        [[[[0.7403]]],\n",
              "\n",
              "\n",
              "         [[[0.7691]]],\n",
              "\n",
              "\n",
              "         [[[0.0330]]]]])"
            ]
          },
          "metadata": {},
          "execution_count": 70
        }
      ]
    },
    {
      "cell_type": "code",
      "source": [
        "y.shape"
      ],
      "metadata": {
        "colab": {
          "base_uri": "https://localhost:8080/"
        },
        "id": "PBnuK0GfYhP0",
        "outputId": "00ab0988-9e9b-4081-8bc8-c3f4716d9088"
      },
      "execution_count": 71,
      "outputs": [
        {
          "output_type": "execute_result",
          "data": {
            "text/plain": [
              "torch.Size([4, 3, 1, 1])"
            ]
          },
          "metadata": {},
          "execution_count": 71
        }
      ]
    },
    {
      "cell_type": "markdown",
      "source": [
        "Numpy with Pytorch\n",
        "* torch.from_numpy(ndarray)\n",
        "* torch.Tensor.numpy() "
      ],
      "metadata": {
        "id": "A-P4MhLhX4gy"
      }
    },
    {
      "cell_type": "code",
      "source": [
        "import numpy as np\n",
        "\n",
        "array = np.arange(2.4, 7.0, 0.9)\n",
        "\n",
        "tensor = torch.from_numpy(array)\n",
        "\n",
        "array, tensor"
      ],
      "metadata": {
        "colab": {
          "base_uri": "https://localhost:8080/"
        },
        "id": "qkWdaqU5XVWU",
        "outputId": "0c84547f-d271-45f0-ca61-115a0915710c"
      },
      "execution_count": 69,
      "outputs": [
        {
          "output_type": "execute_result",
          "data": {
            "text/plain": [
              "(array([2.4, 3.3, 4.2, 5.1, 6. , 6.9]),\n",
              " tensor([2.4000, 3.3000, 4.2000, 5.1000, 6.0000, 6.9000], dtype=torch.float64))"
            ]
          },
          "metadata": {},
          "execution_count": 69
        }
      ]
    },
    {
      "cell_type": "code",
      "source": [
        "tensor.numpy()"
      ],
      "metadata": {
        "colab": {
          "base_uri": "https://localhost:8080/"
        },
        "id": "hQjNuAVzYIxk",
        "outputId": "fc63b277-9df8-47c3-b953-fca3251fc477"
      },
      "execution_count": 72,
      "outputs": [
        {
          "output_type": "execute_result",
          "data": {
            "text/plain": [
              "array([2.4, 3.3, 4.2, 5.1, 6. , 6.9])"
            ]
          },
          "metadata": {},
          "execution_count": 72
        }
      ]
    },
    {
      "cell_type": "code",
      "source": [
        "assert type(array) == type(tensor.numpy())"
      ],
      "metadata": {
        "id": "wZQd08K0Y9hQ"
      },
      "execution_count": 77,
      "outputs": []
    },
    {
      "cell_type": "markdown",
      "source": [
        "Reproducing results\n",
        "\n",
        "* torch.manual_seed() to set seed \n",
        "* We need to use it every time when we use random functions"
      ],
      "metadata": {
        "id": "aJD5cSMBaUbn"
      }
    },
    {
      "cell_type": "code",
      "source": [
        "torch.manual_seed(seed = 42)\n",
        "random_tensor_C = torch.rand(4,3)\n",
        "\n",
        "torch.random.manual_seed( seed = 42)\n",
        "random_tensor_E = torch.rand(4,3)\n",
        "\n",
        "random_tensor_C == random_tensor_E"
      ],
      "metadata": {
        "colab": {
          "base_uri": "https://localhost:8080/"
        },
        "id": "55FjcOlCZB-4",
        "outputId": "42225edf-3e35-4be6-cac1-ac865c4a2543"
      },
      "execution_count": 79,
      "outputs": [
        {
          "output_type": "execute_result",
          "data": {
            "text/plain": [
              "tensor([[True, True, True],\n",
              "        [True, True, True],\n",
              "        [True, True, True],\n",
              "        [True, True, True]])"
            ]
          },
          "metadata": {},
          "execution_count": 79
        }
      ]
    },
    {
      "cell_type": "markdown",
      "source": [
        "We can move tensors to CPU and GPU depending on our resources"
      ],
      "metadata": {
        "id": "oaGWXrH2bGy1"
      }
    },
    {
      "cell_type": "code",
      "source": [],
      "metadata": {
        "id": "yzkoPOZzaKzB"
      },
      "execution_count": null,
      "outputs": []
    }
  ]
}